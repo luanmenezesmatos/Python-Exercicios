{
 "cells": [
  {
   "cell_type": "markdown",
   "metadata": {},
   "source": [
    "### Exercício Python 011 - Pintando Parede\n",
    "**Objetivo:** Faça um programa que leia a largura e a altura de uma parede em metros, calcule a sua área e a quantidade de tinta necessária para pintá-la, sabendo que cada litro de tinta pinta uma área de 2 metros quadrados."
   ]
  },
  {
   "cell_type": "code",
   "execution_count": 1,
   "metadata": {},
   "outputs": [
    {
     "name": "stdout",
     "output_type": "stream",
     "text": [
      "A área da parede é de 50.0m² e será necessário 25.0 litros de tinta para pintá-la.\n"
     ]
    }
   ],
   "source": [
    "larguraParedeEmMetros = float(input(\"Digite a largura da parede em metros:\"))\n",
    "alturaParedeEmMetros = float(input(\"Digite a altura da parede em metros:\"))\n",
    "\n",
    "areaParedeEmMetrosQuadrados = larguraParedeEmMetros * alturaParedeEmMetros\n",
    "tintaNecessariaEmLitros = areaParedeEmMetrosQuadrados / 2\n",
    "\n",
    "print(\"A área da parede é de {}m² e será necessário {} litros de tinta para pintá-la.\".format(areaParedeEmMetrosQuadrados, tintaNecessariaEmLitros)) # 1 litro de tinta pinta 2m²"
   ]
  }
 ],
 "metadata": {
  "kernelspec": {
   "display_name": "Python 3",
   "language": "python",
   "name": "python3"
  },
  "language_info": {
   "codemirror_mode": {
    "name": "ipython",
    "version": 3
   },
   "file_extension": ".py",
   "mimetype": "text/x-python",
   "name": "python",
   "nbconvert_exporter": "python",
   "pygments_lexer": "ipython3",
   "version": "3.10.11"
  },
  "orig_nbformat": 4
 },
 "nbformat": 4,
 "nbformat_minor": 2
}
