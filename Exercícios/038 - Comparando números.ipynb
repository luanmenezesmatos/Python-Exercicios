{
 "cells": [
  {
   "cell_type": "markdown",
   "metadata": {},
   "source": [
    "### Exercício 038 - Comparando números\n",
    "**Objetivo:** Escreva um programa que leia dois números inteiros e compare-os. mostrando na tela uma mensagem:\n",
    "- O primeiro valor é maior\n",
    "- O segundo valor é maior\n",
    "- Não existe valor maior, os dois são iguais"
   ]
  },
  {
   "cell_type": "code",
   "execution_count": 9,
   "metadata": {},
   "outputs": [
    {
     "name": "stdout",
     "output_type": "stream",
     "text": [
      "O primeiro número é maior.\n"
     ]
    }
   ],
   "source": [
    "primeiroNumero = int(input(\"Digite o primeiro número: \"))\n",
    "segundoNumero = int(input(\"Digite o segundo número: \"))\n",
    "\n",
    "if primeiroNumero > segundoNumero:\n",
    "  print(\"O primeiro número é maior.\")\n",
    "elif segundoNumero > primeiroNumero:\n",
    "  print(\"O segundo número é maior.\")\n",
    "else:\n",
    "  print(\"Os dois números são iguais.\")"
   ]
  }
 ],
 "metadata": {
  "kernelspec": {
   "display_name": "Python 3",
   "language": "python",
   "name": "python3"
  },
  "language_info": {
   "codemirror_mode": {
    "name": "ipython",
    "version": 3
   },
   "file_extension": ".py",
   "mimetype": "text/x-python",
   "name": "python",
   "nbconvert_exporter": "python",
   "pygments_lexer": "ipython3",
   "version": "3.11.5"
  },
  "orig_nbformat": 4
 },
 "nbformat": 4,
 "nbformat_minor": 2
}
