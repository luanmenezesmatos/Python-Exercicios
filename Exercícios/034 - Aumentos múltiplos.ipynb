{
 "cells": [
  {
   "cell_type": "markdown",
   "metadata": {},
   "source": [
    "### Exercício Python 034 - Aumentos múltiplos\n",
    "**Objetivo:** Escreva um programa que pergunte o salário de um funcionário e calcule o valor do seu aumento. Para salários superiores a R$1250,00, calcule um aumento de 10%. Para os inferiores ou iguais, o aumento é de 15%."
   ]
  },
  {
   "cell_type": "code",
   "execution_count": 4,
   "metadata": {},
   "outputs": [
    {
     "name": "stdout",
     "output_type": "stream",
     "text": [
      "Quem ganhava R$4000.00 passa a ganhar R$4400.00 agora.\n"
     ]
    }
   ],
   "source": [
    "salarioFuncionario = int(input(\"Qual é o salário do funcionário? R$\"))\n",
    "\n",
    "if salarioFuncionario <= 1250:\n",
    "  novoSalarioFuncionario = salarioFuncionario + (salarioFuncionario * 15 / 100)\n",
    "else:\n",
    "  novoSalarioFuncionario = salarioFuncionario + (salarioFuncionario * 10 / 100)\n",
    "\n",
    "print(\"Quem ganhava R${:.2f} passa a ganhar R${:.2f} agora.\".format(salarioFuncionario, novoSalarioFuncionario))"
   ]
  }
 ],
 "metadata": {
  "kernelspec": {
   "display_name": "Python 3",
   "language": "python",
   "name": "python3"
  },
  "language_info": {
   "codemirror_mode": {
    "name": "ipython",
    "version": 3
   },
   "file_extension": ".py",
   "mimetype": "text/x-python",
   "name": "python",
   "nbconvert_exporter": "python",
   "pygments_lexer": "ipython3",
   "version": "3.11.5"
  },
  "orig_nbformat": 4
 },
 "nbformat": 4,
 "nbformat_minor": 2
}
