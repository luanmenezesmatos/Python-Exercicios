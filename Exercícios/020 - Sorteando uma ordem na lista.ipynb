{
 "cells": [
  {
   "cell_type": "markdown",
   "metadata": {},
   "source": [
    "### Exercício Python 020 - Sorteando uma ordem na lista\n",
    "**Objetivo:** O mesmo professor do desafio 019 quer sortear a ordem de apresentação de trabalhos dos alunos. Faça um programa que leia o nome dos quatro alunos e mostre a ordem sorteada."
   ]
  },
  {
   "cell_type": "code",
   "execution_count": 3,
   "metadata": {},
   "outputs": [
    {
     "name": "stdout",
     "output_type": "stream",
     "text": [
      "A ordem de apresentação será:\n",
      "Primeiro lugar: Maria\n",
      "Segundo lugar: Kaio\n",
      "Terceiro lugar: Carlos\n",
      "Quarto lugar: João\n"
     ]
    }
   ],
   "source": [
    "import random\n",
    "\n",
    "nomePrimeiroAluno = input(\"Digite o nome do primeiro aluno:\")\n",
    "nomeSegundoAluno = input(\"Digite o nome do segundo aluno:\")\n",
    "nomeTerceiroAluno = input(\"Digite o nome do terceiro aluno:\")\n",
    "nomeQuartoAluno = input(\"Digite o nome do quarto aluno:\")\n",
    "\n",
    "listaAlunos = [nomePrimeiroAluno, nomeSegundoAluno, nomeTerceiroAluno, nomeQuartoAluno]\n",
    "\n",
    "ordemApresentacao = random.sample(listaAlunos, k=4) # k é o número de elementos que serão sorteados - o método sample() retorna uma lista de elementos sorteados\n",
    "\n",
    "# print(\"A ordem de apresentação será: {}\".format(ordemApresentacao))\n",
    "print(\"A ordem de apresentação será:\")\n",
    "print(\"Primeiro lugar: {}\".format(ordemApresentacao[0]))\n",
    "print(\"Segundo lugar: {}\".format(ordemApresentacao[1]))\n",
    "print(\"Terceiro lugar: {}\".format(ordemApresentacao[2]))\n",
    "print(\"Quarto lugar: {}\".format(ordemApresentacao[3]))\n",
    "\n",
    "# Em relação ao método utilizado, acredito que o método shuffle() seja mais adequado, pois ele embaralha a lista original, enquanto o método sample() retorna uma lista de elementos sorteados, sem alterar a lista original."
   ]
  },
  {
   "cell_type": "markdown",
   "metadata": {},
   "source": [
    "### Explicação sobre o método random.sample()\n",
    "\n",
    "**random.sample()** é uma função embutida de módulo aleatório (*random*) em Python que retorna uma lista de comprimento particular de itens escolhidos da sequência, ou seja, lista, tupla, string ou conjunto. Usado para amostragem aleatória sem reposição.\n",
    "\n",
    "Sintaxe: random.sample (sequência, k)\n",
    "\n",
    "Parâmetros:\n",
    "sequência : pode ser uma lista, tupla, string ou conjunto.\n",
    "k : um valor inteiro, especifica o comprimento de uma amostra.\n",
    "\n",
    "Retorna: k comprimento nova lista de elementos escolhidos na sequência."
   ]
  }
 ],
 "metadata": {
  "kernelspec": {
   "display_name": "Python 3",
   "language": "python",
   "name": "python3"
  },
  "language_info": {
   "codemirror_mode": {
    "name": "ipython",
    "version": 3
   },
   "file_extension": ".py",
   "mimetype": "text/x-python",
   "name": "python",
   "nbconvert_exporter": "python",
   "pygments_lexer": "ipython3",
   "version": "3.10.11"
  },
  "orig_nbformat": 4
 },
 "nbformat": 4,
 "nbformat_minor": 2
}
