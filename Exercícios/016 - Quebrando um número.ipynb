{
 "cells": [
  {
   "cell_type": "markdown",
   "metadata": {},
   "source": [
    "### Exercício Python 016 - Quebrando um número\n",
    "**Objetivo:** Crie um programa que leia um número Real qualquer pelo teclado e mostre na tela a sua porção Inteira.\n",
    "\n",
    "Ex: Digite um número: 6.127\n",
    "O número 6.127 tem a parte Inteira 6."
   ]
  },
  {
   "cell_type": "code",
   "execution_count": 5,
   "metadata": {},
   "outputs": [
    {
     "name": "stdout",
     "output_type": "stream",
     "text": [
      "O número digitado foi 10.5 e a sua porção inteira é 10.\n"
     ]
    }
   ],
   "source": [
    "import math # Importa a biblioteca math\n",
    "\n",
    "numeroReal = float(input(\"Digite um número real (Exemplo: 6.127):\"))\n",
    "\n",
    "print(\"O número digitado foi {} e a sua porção inteira é {}.\".format(numeroReal, math.trunc(numeroReal)))"
   ]
  }
 ],
 "metadata": {
  "kernelspec": {
   "display_name": "Python 3",
   "language": "python",
   "name": "python3"
  },
  "language_info": {
   "codemirror_mode": {
    "name": "ipython",
    "version": 3
   },
   "file_extension": ".py",
   "mimetype": "text/x-python",
   "name": "python",
   "nbconvert_exporter": "python",
   "pygments_lexer": "ipython3",
   "version": "3.10.11"
  },
  "orig_nbformat": 4
 },
 "nbformat": 4,
 "nbformat_minor": 2
}
