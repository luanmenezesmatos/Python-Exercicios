{
 "cells": [
  {
   "cell_type": "markdown",
   "metadata": {},
   "source": [
    "### Exercício Python 033 - Maior e menor valores\n",
    "**Objetivo:** Faça um programa que leia três números e mostre qual é o maior e qual é o menor."
   ]
  },
  {
   "cell_type": "code",
   "execution_count": 1,
   "metadata": {},
   "outputs": [
    {
     "name": "stdout",
     "output_type": "stream",
     "text": [
      "O maior valor digitado foi: 15\n",
      "O menor valor digitado foi: 13\n"
     ]
    }
   ],
   "source": [
    "primeiroNumero = int(input(\"Digite o primeiro número:\"))\n",
    "segundoNumero = int(input(\"Digite o segundo número:\"))\n",
    "terceiroNumero = int(input(\"Digite o terceiro número:\"))\n",
    "\n",
    "# Verificando o maior número\n",
    "if primeiroNumero > segundoNumero and primeiroNumero > terceiroNumero:\n",
    "  maiorNumero = primeiroNumero\n",
    "elif segundoNumero > primeiroNumero and segundoNumero > terceiroNumero:\n",
    "  maiorNumero = segundoNumero\n",
    "else:\n",
    "  maiorNumero = terceiroNumero\n",
    "\n",
    "# Verificando o menor número\n",
    "if primeiroNumero < segundoNumero and primeiroNumero < terceiroNumero:\n",
    "  menorNumero = primeiroNumero\n",
    "elif segundoNumero < primeiroNumero and segundoNumero < terceiroNumero:\n",
    "  menorNumero = segundoNumero\n",
    "else:\n",
    "  menorNumero = terceiroNumero\n",
    "\n",
    "print(\"O maior número digitado foi: {}\".format(maiorNumero))\n",
    "print(\"O menor número digitado foi: {}\".format(menorNumero))"
   ]
  }
 ],
 "metadata": {
  "kernelspec": {
   "display_name": "Python 3",
   "language": "python",
   "name": "python3"
  },
  "language_info": {
   "codemirror_mode": {
    "name": "ipython",
    "version": 3
   },
   "file_extension": ".py",
   "mimetype": "text/x-python",
   "name": "python",
   "nbconvert_exporter": "python",
   "pygments_lexer": "ipython3",
   "version": "3.11.5"
  },
  "orig_nbformat": 4
 },
 "nbformat": 4,
 "nbformat_minor": 2
}
