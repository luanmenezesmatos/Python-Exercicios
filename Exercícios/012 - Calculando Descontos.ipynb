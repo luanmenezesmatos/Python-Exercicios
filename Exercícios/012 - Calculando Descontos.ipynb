{
 "cells": [
  {
   "cell_type": "markdown",
   "metadata": {},
   "source": [
    "### Exercício Python 012 - Calculando Descontos\n",
    "**Objetivo:** Faça um algoritmo que leia o preço de um produto e mostre seu novo preço, com 5% de desconto."
   ]
  },
  {
   "cell_type": "code",
   "execution_count": 3,
   "metadata": {},
   "outputs": [
    {
     "name": "stdout",
     "output_type": "stream",
     "text": [
      "O produto que custava R$123.95, na promoção com desconto de 5% vai custar R$117.75\n"
     ]
    }
   ],
   "source": [
    "precoProduto = float(input(\"Digite o preço do produto: R$\"))\n",
    "\n",
    "descontoProduto = precoProduto - (precoProduto * 0.05)\n",
    "\n",
    "print(\"O produto que custava R${:.2f}, na promoção com desconto de 5% vai custar R${:.2f}\".format(precoProduto, descontoProduto))"
   ]
  }
 ],
 "metadata": {
  "kernelspec": {
   "display_name": "Python 3",
   "language": "python",
   "name": "python3"
  },
  "language_info": {
   "codemirror_mode": {
    "name": "ipython",
    "version": 3
   },
   "file_extension": ".py",
   "mimetype": "text/x-python",
   "name": "python",
   "nbconvert_exporter": "python",
   "pygments_lexer": "ipython3",
   "version": "3.10.11"
  },
  "orig_nbformat": 4
 },
 "nbformat": 4,
 "nbformat_minor": 2
}
