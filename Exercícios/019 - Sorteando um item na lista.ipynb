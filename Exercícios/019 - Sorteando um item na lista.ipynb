{
 "cells": [
  {
   "cell_type": "markdown",
   "metadata": {},
   "source": [
    "### Exercício Python 019 - Sorteando um item na lista\n",
    "**Objetivo:** Um professor quer sortear um dos seus quatro alunos para apagar o quadro. Faça um programa que ajude ele, lendo o nome dos alunos e escrevendo na tela o nome do escolhido."
   ]
  },
  {
   "cell_type": "code",
   "execution_count": 2,
   "metadata": {},
   "outputs": [
    {
     "name": "stdout",
     "output_type": "stream",
     "text": [
      "O aluno escolhido foi Caio\n"
     ]
    }
   ],
   "source": [
    "import random\n",
    "\n",
    "nomePrimeiroAluno = input(\"Digite o nome do primeiro aluno:\")\n",
    "nomeSegundoAluno = input(\"Digite o nome do segundo aluno:\")\n",
    "nomeTerceiroAluno = input(\"Digite o nome do terceiro aluno:\")\n",
    "nomeQuartoAluno = input(\"Digite o nome do quarto aluno:\")\n",
    "\n",
    "listaAlunos = [nomePrimeiroAluno, nomeSegundoAluno, nomeTerceiroAluno, nomeQuartoAluno] # Cria uma lista com os nomes dos alunos\n",
    "\n",
    "print(\"O aluno escolhido foi {}\".format(random.choice(listaAlunos))) # random.choice() escolhe um item aleatório da lista - também pode ser utilizado o método random.shuffle() que embaralha a lista"
   ]
  }
 ],
 "metadata": {
  "kernelspec": {
   "display_name": "Python 3",
   "language": "python",
   "name": "python3"
  },
  "language_info": {
   "codemirror_mode": {
    "name": "ipython",
    "version": 3
   },
   "file_extension": ".py",
   "mimetype": "text/x-python",
   "name": "python",
   "nbconvert_exporter": "python",
   "pygments_lexer": "ipython3",
   "version": "3.10.11"
  },
  "orig_nbformat": 4
 },
 "nbformat": 4,
 "nbformat_minor": 2
}
