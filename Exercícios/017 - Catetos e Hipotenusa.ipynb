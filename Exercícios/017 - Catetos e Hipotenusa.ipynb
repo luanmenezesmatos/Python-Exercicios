{
 "cells": [
  {
   "cell_type": "markdown",
   "metadata": {},
   "source": [
    "### Exercício Python 017 - Catetos e Hipotenusa\n",
    "**Objetivo:** Faça um programa que leia o comprimento do cateto oposto e do cateto adjacente de um triângulo retângulo. Calcule e mostre o comprimento da hipotenusa."
   ]
  },
  {
   "cell_type": "code",
   "execution_count": 1,
   "metadata": {},
   "outputs": [
    {
     "name": "stdout",
     "output_type": "stream",
     "text": [
      "O comprimento da hipotenusa é: 25.00\n"
     ]
    }
   ],
   "source": [
    "comprimentoDoCatetoOposto = float(input(\"Digite o comprimento do cateto oposto:\"))\n",
    "comprimentoDoCatetoAdjacente = float(input(\"Digite o comprimento do cateto adjacente:\"))\n",
    "\n",
    "comprimentoHipotenusa = (comprimentoDoCatetoOposto ** 2 + comprimentoDoCatetoAdjacente ** 2) ** (1/2) # ou pow((comprimentoDoCatetoOposto ** 2 + comprimentoDoCatetoAdjacente ** 2), (1/2))\n",
    "\n",
    "print(\"O comprimento da hipotenusa é: {:.2f}\".format(comprimentoHipotenusa)) # :.2f para formatar a saída com duas casas decimais"
   ]
  }
 ],
 "metadata": {
  "kernelspec": {
   "display_name": "Python 3",
   "language": "python",
   "name": "python3"
  },
  "language_info": {
   "codemirror_mode": {
    "name": "ipython",
    "version": 3
   },
   "file_extension": ".py",
   "mimetype": "text/x-python",
   "name": "python",
   "nbconvert_exporter": "python",
   "pygments_lexer": "ipython3",
   "version": "3.10.11"
  },
  "orig_nbformat": 4
 },
 "nbformat": 4,
 "nbformat_minor": 2
}
