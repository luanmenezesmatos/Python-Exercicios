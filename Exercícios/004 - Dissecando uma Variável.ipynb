{
 "cells": [
  {
   "cell_type": "markdown",
   "metadata": {},
   "source": [
    "### Exercício Python 004 - Dissecando uma Variável\n",
    "**Objetivo:** Faça um programa que leia algo pelo teclado e mostre na tela o seu tipo primitivo e todas as informações possíveis sobre ele."
   ]
  },
  {
   "cell_type": "code",
   "execution_count": 6,
   "metadata": {},
   "outputs": [
    {
     "name": "stdout",
     "output_type": "stream",
     "text": [
      "O tipo primitivo desse valor é <class 'str'>\n",
      "Só tem espaços? False\n",
      "É um número? False\n",
      "É alfabético? False\n",
      "É alfanumérico? False\n",
      "Esta em maiúsculas? False\n",
      "Esta em minúsculas? False\n",
      "Esta capitalizado? False\n"
     ]
    }
   ],
   "source": [
    "frase = str(input(\"Digite algo: \"))\n",
    "\n",
    "if (frase == \"\"):\n",
    "  print(\"Você não digitou nada!\")\n",
    "else:\n",
    "  print(\"O tipo primitivo desse valor é {}\".format(type(frase)))\n",
    "  print(\"Só tem espaços? {}\".format(frase.isspace()))\n",
    "  print(\"É um número? {}\".format(frase.isnumeric()))\n",
    "  print(\"É alfabético? {}\".format(frase.isalpha()))\n",
    "  print(\"É alfanumérico? {}\".format(frase.isalnum()))\n",
    "  print(\"Esta em maiúsculas? {}\".format(frase.isupper()))\n",
    "  print(\"Esta em minúsculas? {}\".format(frase.islower()))\n",
    "  print(\"Esta capitalizado? {}\".format(frase.istitle()))"
   ]
  }
 ],
 "metadata": {
  "kernelspec": {
   "display_name": "Python 3",
   "language": "python",
   "name": "python3"
  },
  "language_info": {
   "codemirror_mode": {
    "name": "ipython",
    "version": 3
   },
   "file_extension": ".py",
   "mimetype": "text/x-python",
   "name": "python",
   "nbconvert_exporter": "python",
   "pygments_lexer": "ipython3",
   "version": "3.10.11"
  },
  "orig_nbformat": 4
 },
 "nbformat": 4,
 "nbformat_minor": 2
}
