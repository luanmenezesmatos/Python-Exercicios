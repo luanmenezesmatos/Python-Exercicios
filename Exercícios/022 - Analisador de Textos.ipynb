{
 "cells": [
  {
   "cell_type": "markdown",
   "metadata": {},
   "source": [
    "### Exercício Python 022 - Analisador de Textos\n",
    "**Objetivo:** Crie um programa que leia o nome completo de uma pessoa e mostre: \n",
    "- O nome com todas as letras maiúsculas e minúsculas.\n",
    "- Quantas letras ao todo (sem considerar espaços).\n",
    "- Quantas letras tem o primeiro nome."
   ]
  },
  {
   "cell_type": "code",
   "execution_count": null,
   "metadata": {},
   "outputs": [],
   "source": [
    "nomeCompleto = str(input(\"Digite seu nome completo:\")).strip() # o strip() remove os espaços antes e depois da string\n",
    "\n",
    "print(\"Analisando seu nome...\")\n",
    "print(\"Seu nome em maiúsculas é {}\".format(nomeCompleto.upper()))\n",
    "print(\"Seu nome em minúsculas é {}\".format(nomeCompleto.lower()))\n",
    "print(\"Seu nome tem ao todo {} letras\".format(len(nomeCompleto) - nomeCompleto.count(' ')))\n",
    "# print(\"Seu primeiro nome tem {} letras\".format(nomeCompleto.find(' '))) # o find() retorna a posição do primeiro espaço"
   ]
  }
 ],
 "metadata": {
  "kernelspec": {
   "display_name": "Python 3",
   "language": "python",
   "name": "python3"
  },
  "language_info": {
   "codemirror_mode": {
    "name": "ipython",
    "version": 3
   },
   "file_extension": ".py",
   "mimetype": "text/x-python",
   "name": "python",
   "nbconvert_exporter": "python",
   "pygments_lexer": "ipython3",
   "version": "3.10.11"
  },
  "orig_nbformat": 4
 },
 "nbformat": 4,
 "nbformat_minor": 2
}
