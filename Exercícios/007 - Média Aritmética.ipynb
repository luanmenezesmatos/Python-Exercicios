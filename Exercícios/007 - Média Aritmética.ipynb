{
 "cells": [
  {
   "cell_type": "markdown",
   "metadata": {},
   "source": [
    "### Exercício Python 007 - Média Aritmética\n",
    "**Objetivo:** Desenvolva um programa que leia as duas notas de um aluno, calcule e mostre a sua média."
   ]
  },
  {
   "cell_type": "code",
   "execution_count": 5,
   "metadata": {},
   "outputs": [
    {
     "name": "stdout",
     "output_type": "stream",
     "text": [
      "Aluno reprovado!\n",
      "A média do aluno é: 3.5\n"
     ]
    }
   ],
   "source": [
    "primeiraNota = float(input(\"Digite a primeira nota do aluno:\"))\n",
    "segundaNota = float(input(\"Digite a segunda nota do aluno:\"))\n",
    "\n",
    "media = (primeiraNota + segundaNota) / 2\n",
    "\n",
    "if media >= 7:\n",
    "    print(\"Aluno aprovado!\")\n",
    "elif media < 7 and media >= 5:\n",
    "    print(\"Aluno em recuperação!\")\n",
    "else:\n",
    "    print(\"Aluno reprovado!\")\n",
    "\n",
    "print(\"A média do aluno é:\", media)"
   ]
  }
 ],
 "metadata": {
  "kernelspec": {
   "display_name": "Python 3",
   "language": "python",
   "name": "python3"
  },
  "language_info": {
   "codemirror_mode": {
    "name": "ipython",
    "version": 3
   },
   "file_extension": ".py",
   "mimetype": "text/x-python",
   "name": "python",
   "nbconvert_exporter": "python",
   "pygments_lexer": "ipython3",
   "version": "3.10.11"
  },
  "orig_nbformat": 4
 },
 "nbformat": 4,
 "nbformat_minor": 2
}
