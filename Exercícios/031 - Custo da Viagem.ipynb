{
 "cells": [
  {
   "cell_type": "markdown",
   "metadata": {},
   "source": [
    "### Exercício Python 031 - Custo da Viagem\n",
    "**Objetivo:** Desenvolva um programa que pergunte a distância de uma viagem em Km. Calcule o preço da passagem, cobrando R$0,50 por Km para viagens de até 200Km e R$0,45 parta viagens mais longas."
   ]
  },
  {
   "cell_type": "code",
   "execution_count": 2,
   "metadata": {},
   "outputs": [
    {
     "name": "stdout",
     "output_type": "stream",
     "text": [
      "Você está prestes a começar uma viagem de 210.0Km.\n",
      "O preço da sua passagem será de R$94.50\n"
     ]
    }
   ],
   "source": [
    "distanciaViagemEmKm = float(input(\"Qual a distância da viagem em Km?\"))\n",
    "\n",
    "print(\"Você está prestes a começar uma viagem de {}Km.\".format(distanciaViagemEmKm))\n",
    "\n",
    "if distanciaViagemEmKm <= 200:\n",
    "  precoDaPassagem = distanciaViagemEmKm * 0.50 # 0.50 é o preço da passagem por Km\n",
    "else:\n",
    "  precoDaPassagem = distanciaViagemEmKm * 0.45 # 0.45 é o preço da passagem por Km\n",
    "\n",
    "print(\"O preço da sua passagem será de R${:.2f}\".format(precoDaPassagem))"
   ]
  }
 ],
 "metadata": {
  "kernelspec": {
   "display_name": "Python 3",
   "language": "python",
   "name": "python3"
  },
  "language_info": {
   "codemirror_mode": {
    "name": "ipython",
    "version": 3
   },
   "file_extension": ".py",
   "mimetype": "text/x-python",
   "name": "python",
   "nbconvert_exporter": "python",
   "pygments_lexer": "ipython3",
   "version": "3.11.5"
  },
  "orig_nbformat": 4
 },
 "nbformat": 4,
 "nbformat_minor": 2
}
