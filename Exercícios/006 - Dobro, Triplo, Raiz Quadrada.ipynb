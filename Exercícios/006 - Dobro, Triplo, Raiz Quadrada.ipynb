{
 "cells": [
  {
   "cell_type": "markdown",
   "metadata": {},
   "source": [
    "### Exercício Python 006 - Dobro, Triplo, Raiz Quadrada\n",
    "**Objetivo:** Faça um programa que leia um número Inteiro e mostre na tela o seu sucessor e seu antecessor."
   ]
  },
  {
   "cell_type": "code",
   "execution_count": 1,
   "metadata": {},
   "outputs": [
    {
     "name": "stdout",
     "output_type": "stream",
     "text": [
      "O dobro de 15 é 30.\n",
      "O triplo de 15 é 45.\n",
      "A raiz quadrada de 15 é 3.87.\n"
     ]
    }
   ],
   "source": [
    "numero = int(input(\"Digite um número: \"))\n",
    "\n",
    "dobro = numero * 2\n",
    "triplo = numero * 3\n",
    "raiz = numero ** (1/2) # ou pow(numero, (1/2)) - ou - numero ** 0.5 - ou - math.sqrt(numero) - ou - math.pow(numero, (1/2))\n",
    "\n",
    "print(\"O dobro de {} é {}.\\nO triplo de {} é {}.\\nA raiz quadrada de {} é {:.2f}.\".format(numero, dobro, numero, triplo, numero, raiz))\n"
   ]
  }
 ],
 "metadata": {
  "kernelspec": {
   "display_name": "Python 3",
   "language": "python",
   "name": "python3"
  },
  "language_info": {
   "codemirror_mode": {
    "name": "ipython",
    "version": 3
   },
   "file_extension": ".py",
   "mimetype": "text/x-python",
   "name": "python",
   "nbconvert_exporter": "python",
   "pygments_lexer": "ipython3",
   "version": "3.10.11"
  },
  "orig_nbformat": 4
 },
 "nbformat": 4,
 "nbformat_minor": 2
}
