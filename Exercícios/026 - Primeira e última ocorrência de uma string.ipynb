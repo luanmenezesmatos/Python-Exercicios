{
 "cells": [
  {
   "cell_type": "markdown",
   "metadata": {},
   "source": [
    "### Exercício Python 026 - Primeira e última ocorrência de uma string\n",
    "**Objetivo:** Faça um programa que leia uma frase pelo teclado e mostre quantas vezes aparece a letra \"A\", em que posição ela aparece a primeira vez e em que posição ela aparece a última vez."
   ]
  },
  {
   "cell_type": "code",
   "execution_count": 1,
   "metadata": {},
   "outputs": [
    {
     "name": "stdout",
     "output_type": "stream",
     "text": [
      "A letra 'A' aparece 1 vezes na frase.\n",
      "A primeira letra 'A' apareceu na posição 3.\n",
      "A última letra 'A' apareceu na posição 3.\n"
     ]
    }
   ],
   "source": [
    "nome = str(input(\"Digite o seu nome:\")).upper().strip() # .upper() para deixar tudo em maiúsculo e .strip() para remover os espaços\n",
    "\n",
    "print(\"A letra 'A' aparece {} vezes na frase.\".format(nome.count(\"A\"))) # .count() para contar quantas vezes aparece a letra \"A\"\n",
    "print(\"A primeira letra 'A' apareceu na posição {}.\".format(nome.find(\"A\")+1)) # .find() para encontrar a primeira letra \"A\" e o +1 para começar a contar do 1\n",
    "print(\"A última letra 'A' apareceu na posição {}.\".format(nome.rfind(\"A\")+1)) # .rfind() para encontrar a última letra \"A\" e o +1 para começar a contar do 1"
   ]
  }
 ],
 "metadata": {
  "kernelspec": {
   "display_name": "Python 3",
   "language": "python",
   "name": "python3"
  },
  "language_info": {
   "codemirror_mode": {
    "name": "ipython",
    "version": 3
   },
   "file_extension": ".py",
   "mimetype": "text/x-python",
   "name": "python",
   "nbconvert_exporter": "python",
   "pygments_lexer": "ipython3",
   "version": "3.10.11"
  },
  "orig_nbformat": 4
 },
 "nbformat": 4,
 "nbformat_minor": 2
}
