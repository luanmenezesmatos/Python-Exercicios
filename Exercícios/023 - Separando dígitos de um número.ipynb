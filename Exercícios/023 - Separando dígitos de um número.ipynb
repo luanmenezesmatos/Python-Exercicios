{
 "cells": [
  {
   "cell_type": "markdown",
   "metadata": {},
   "source": [
    "### Exercício Python 023 - Separando dígitos de um número\n",
    "**Objetivo:** Faça um programa que leia um número de 0 a 9999 e mostre na tela cada um dos dígitos separados."
   ]
  },
  {
   "cell_type": "code",
   "execution_count": 3,
   "metadata": {},
   "outputs": [
    {
     "name": "stdout",
     "output_type": "stream",
     "text": [
      "Analisando o número 50\n",
      "Unidade: 0\n",
      "Dezena: 5\n",
      "Centena: 0\n",
      "Milhar: 0\n"
     ]
    }
   ],
   "source": [
    "numero = int(input(\"Digite um número entre 0 a 9999: \"))\n",
    "\n",
    "unidade = numero // 1 % 10\n",
    "dezena = numero // 10 % 10\n",
    "centena = numero // 100 % 10\n",
    "milhar = numero // 1000 % 10\n",
    "\n",
    "print(\"Analisando o número {}\".format(numero))\n",
    "print(\"Unidade: {}\".format(unidade))\n",
    "print(\"Dezena: {}\".format(dezena))\n",
    "print(\"Centena: {}\".format(centena))\n",
    "print(\"Milhar: {}\".format(milhar))"
   ]
  }
 ],
 "metadata": {
  "kernelspec": {
   "display_name": "Python 3",
   "language": "python",
   "name": "python3"
  },
  "language_info": {
   "codemirror_mode": {
    "name": "ipython",
    "version": 3
   },
   "file_extension": ".py",
   "mimetype": "text/x-python",
   "name": "python",
   "nbconvert_exporter": "python",
   "pygments_lexer": "ipython3",
   "version": "3.10.11"
  },
  "orig_nbformat": 4
 },
 "nbformat": 4,
 "nbformat_minor": 2
}
