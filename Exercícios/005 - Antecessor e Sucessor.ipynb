{
 "cells": [
  {
   "cell_type": "markdown",
   "metadata": {},
   "source": [
    "### Exercício Python 005 - Antecessor e Sucessor\n",
    "**Objetivo:** Faça um programa que leia um número Inteiro e mostre na tela o seu sucessor e seu antecessor."
   ]
  },
  {
   "cell_type": "code",
   "execution_count": 1,
   "metadata": {},
   "outputs": [
    {
     "name": "stdout",
     "output_type": "stream",
     "text": [
      "O número digitado foi 15, seu antecessor é 14 e seu sucessor é 16.\n"
     ]
    }
   ],
   "source": [
    "numero = int(input(\"Digite um número para mostrar o antecessor e o sucessor:\"))\n",
    "\n",
    "print(\"O número digitado foi {}, seu antecessor é {} e seu sucessor é {}.\".format(\n",
    "    numero, numero-1, numero+1))"
   ]
  }
 ],
 "metadata": {
  "kernelspec": {
   "display_name": "Python 3",
   "language": "python",
   "name": "python3"
  },
  "language_info": {
   "codemirror_mode": {
    "name": "ipython",
    "version": 3
   },
   "file_extension": ".py",
   "mimetype": "text/x-python",
   "name": "python",
   "nbconvert_exporter": "python",
   "pygments_lexer": "ipython3",
   "version": "3.10.11"
  },
  "orig_nbformat": 4
 },
 "nbformat": 4,
 "nbformat_minor": 2
}
