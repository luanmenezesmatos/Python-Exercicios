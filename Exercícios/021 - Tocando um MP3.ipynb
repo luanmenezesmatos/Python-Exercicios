{
 "cells": [
  {
   "cell_type": "markdown",
   "metadata": {},
   "source": [
    "### Exercício Python 021 - Tocando um MP3\n",
    "**Objetivo:** Faça um programa em Python que abra e reproduza o áudio de um arquivo MP3."
   ]
  },
  {
   "cell_type": "code",
   "execution_count": 1,
   "metadata": {},
   "outputs": [
    {
     "name": "stdout",
     "output_type": "stream",
     "text": [
      "pygame 2.5.1 (SDL 2.28.2, Python 3.10.11)\n",
      "Hello from the pygame community. https://www.pygame.org/contribute.html\n",
      "O áudio já está sendo reproduzido!\n"
     ]
    }
   ],
   "source": [
    "import pygame\n",
    "\n",
    "pygame.init() # Inicializando o pygame\n",
    "pygame.mixer.music.load(\"021 - Áudio.mp3\") # Carregando o arquivo de áudio\n",
    "pygame.mixer.music.play() # Tocando o arquivo de áudio\n",
    "pygame.event.wait() # Esperando o áudio terminar de tocar\n",
    "\n",
    "print(\"O áudio já está sendo reproduzido!\")"
   ]
  }
 ],
 "metadata": {
  "kernelspec": {
   "display_name": "Python 3",
   "language": "python",
   "name": "python3"
  },
  "language_info": {
   "codemirror_mode": {
    "name": "ipython",
    "version": 3
   },
   "file_extension": ".py",
   "mimetype": "text/x-python",
   "name": "python",
   "nbconvert_exporter": "python",
   "pygments_lexer": "ipython3",
   "version": "3.10.11"
  },
  "orig_nbformat": 4
 },
 "nbformat": 4,
 "nbformat_minor": 2
}
