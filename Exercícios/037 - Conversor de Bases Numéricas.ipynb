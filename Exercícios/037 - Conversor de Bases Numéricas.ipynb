{
 "cells": [
  {
   "cell_type": "markdown",
   "metadata": {},
   "source": [
    "### Exercício 037 - Conversor de Bases Numéricas\n",
    "**Objetivo:** Escreva um programa em Python que leia um número inteiro qualquer e peça para o usuário escolher qual será a base de conversão: 1 para binário, 2 para octal e 3 para hexadecimal."
   ]
  },
  {
   "cell_type": "code",
   "execution_count": 2,
   "metadata": {},
   "outputs": [
    {
     "name": "stdout",
     "output_type": "stream",
     "text": [
      "O número 15 convertido para binário é igual a 1111.\n"
     ]
    }
   ],
   "source": [
    "numero = int(input(\"Digite um número inteiro:\"))\n",
    "\n",
    "opcao = int(input(\"\"\"\n",
    "Escolha uma das bases para conversão:                  \n",
    "\n",
    "1 - Binário.\n",
    "2 - Octal.\n",
    "3 - Hexadecimal\n",
    "\n",
    "Converter para: \"\"\"))\n",
    "\n",
    "if opcao == 1:\n",
    "    print(\"O número {} convertido para binário é igual a {}.\".format(numero, bin(numero)[2:]))\n",
    "elif opcao == 2:\n",
    "    print(\"O número {} convertido para octal é igual a {}.\".format(numero, oct(numero)[2:]))\n",
    "elif opcao == 3:\n",
    "    print(\"O número {} convertido para hexadecimal é igual a {}.\".format(numero, hex(numero)[2:]))\n",
    "else:\n",
    "    print(\"Opção inválida! Tente novamente.\")"
   ]
  }
 ],
 "metadata": {
  "kernelspec": {
   "display_name": "Python 3",
   "language": "python",
   "name": "python3"
  },
  "language_info": {
   "codemirror_mode": {
    "name": "ipython",
    "version": 3
   },
   "file_extension": ".py",
   "mimetype": "text/x-python",
   "name": "python",
   "nbconvert_exporter": "python",
   "pygments_lexer": "ipython3",
   "version": "3.11.5"
  },
  "orig_nbformat": 4
 },
 "nbformat": 4,
 "nbformat_minor": 2
}
