{
 "cells": [
  {
   "cell_type": "markdown",
   "metadata": {},
   "source": [
    "### Exercício Python 014 - Conversor de Temperaturas\n",
    "**Objetivo:** Escreva um programa que converta uma temperatura digitando em graus Celsius e converta para graus Fahrenheit."
   ]
  },
  {
   "cell_type": "code",
   "execution_count": 1,
   "metadata": {},
   "outputs": [
    {
     "name": "stdout",
     "output_type": "stream",
     "text": [
      "A temperatura de 33.0°C corresponde a 91.4°F!\n"
     ]
    }
   ],
   "source": [
    "grausEmCelsius = float(input(\"Informe a temperatura em °C:\"))\n",
    "\n",
    "grausEmFahrenheit = (grausEmCelsius * 9/5) + 32\n",
    "\n",
    "print(\"A temperatura de {}°C corresponde a {}°F!\".format(grausEmCelsius, grausEmFahrenheit))"
   ]
  }
 ],
 "metadata": {
  "kernelspec": {
   "display_name": "Python 3",
   "language": "python",
   "name": "python3"
  },
  "language_info": {
   "codemirror_mode": {
    "name": "ipython",
    "version": 3
   },
   "file_extension": ".py",
   "mimetype": "text/x-python",
   "name": "python",
   "nbconvert_exporter": "python",
   "pygments_lexer": "ipython3",
   "version": "3.10.11"
  },
  "orig_nbformat": 4
 },
 "nbformat": 4,
 "nbformat_minor": 2
}
