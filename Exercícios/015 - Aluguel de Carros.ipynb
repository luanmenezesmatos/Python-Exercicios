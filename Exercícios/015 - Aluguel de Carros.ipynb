{
 "cells": [
  {
   "cell_type": "markdown",
   "metadata": {},
   "source": [
    "### Exercício Python 015 - Aluguel de Carros\n",
    "**Objetivo:** Escreva um programa que pergunte a quantidade de Km (quilômetros) percorridos por um carro alugado e a quantidade de dias pelos quais ele foi alugado. Calcule o preço a pagar, sabendo que o carro custa R$60 por dia e R$0,15 por Km (quilômetro) rodado."
   ]
  },
  {
   "cell_type": "code",
   "execution_count": 1,
   "metadata": {},
   "outputs": [
    {
     "name": "stdout",
     "output_type": "stream",
     "text": [
      "O preço total a pagar é de R$ 301.50\n"
     ]
    }
   ],
   "source": [
    "quilometrosPercorridos = float(input(\"Quantos quilômetros foram percorridos?\"))\n",
    "\n",
    "diasAlugados = int(input(\"Quantos dias o carro foi alugado?\"))\n",
    "\n",
    "precoTotal = (diasAlugados * 60) + (quilometrosPercorridos * 0.15)\n",
    "\n",
    "print(\"O preço total a pagar é de R$ {:.2f}\".format(precoTotal))"
   ]
  }
 ],
 "metadata": {
  "kernelspec": {
   "display_name": "Python 3",
   "language": "python",
   "name": "python3"
  },
  "language_info": {
   "codemirror_mode": {
    "name": "ipython",
    "version": 3
   },
   "file_extension": ".py",
   "mimetype": "text/x-python",
   "name": "python",
   "nbconvert_exporter": "python",
   "pygments_lexer": "ipython3",
   "version": "3.10.11"
  },
  "orig_nbformat": 4
 },
 "nbformat": 4,
 "nbformat_minor": 2
}
