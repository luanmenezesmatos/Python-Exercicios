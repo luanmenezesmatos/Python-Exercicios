{
 "cells": [
  {
   "cell_type": "markdown",
   "metadata": {},
   "source": [
    "### Exercício Python 030 - Par ou Ímpar?\n",
    "**Objetivo:** Crie um programa que leia um número inteiro e mostre na tela se ele é PAR ou ÍMPAR."
   ]
  },
  {
   "cell_type": "code",
   "execution_count": 3,
   "metadata": {},
   "outputs": [
    {
     "name": "stdout",
     "output_type": "stream",
     "text": [
      "O número '2' é par\n"
     ]
    }
   ],
   "source": [
    "numero = int(input(\"Insira um número inteiro:\"))\n",
    "\n",
    "if numero % 2 == 0: # Se o resto da divisão por 2 for igual a 0, o número é par\n",
    "  print(\"O número {} é par\".format(numero))\n",
    "else:\n",
    "  print(\"O número {} é ímpar\".format(numero))"
   ]
  }
 ],
 "metadata": {
  "kernelspec": {
   "display_name": "Python 3",
   "language": "python",
   "name": "python3"
  },
  "language_info": {
   "codemirror_mode": {
    "name": "ipython",
    "version": 3
   },
   "file_extension": ".py",
   "mimetype": "text/x-python",
   "name": "python",
   "nbconvert_exporter": "python",
   "pygments_lexer": "ipython3",
   "version": "3.11.5"
  },
  "orig_nbformat": 4
 },
 "nbformat": 4,
 "nbformat_minor": 2
}
