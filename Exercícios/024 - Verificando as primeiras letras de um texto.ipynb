{
 "cells": [
  {
   "cell_type": "markdown",
   "metadata": {},
   "source": [
    "### Exercício Python 024 - Verificando as primeiras letras de um texto\n",
    "**Objetivo:** Crie um programa que leia o nome de uma cidade diga se ela começa ou não com o nome \"Santos\"."
   ]
  },
  {
   "cell_type": "code",
   "execution_count": 2,
   "metadata": {},
   "outputs": [
    {
     "name": "stdout",
     "output_type": "stream",
     "text": [
      "A cidade não começa com SANTO\n"
     ]
    }
   ],
   "source": [
    "cidadeNascimento = str(input(\"Em que cidade você nasceu?\")).strip() # strip() remove os espaços antes e depois da string\n",
    "\n",
    "# print(cidadeNascimento[:5].upper() == \"Santos\") # [:5] pega as 5 primeiras letras da string\n",
    "\n",
    "if cidadeNascimento[:5].upper() == \"Santos\":\n",
    "  print(\"A cidade começa com Santos\")\n",
    "else:\n",
    "  print(\"A cidade não começa com Santos\")"
   ]
  }
 ],
 "metadata": {
  "kernelspec": {
   "display_name": "Python 3",
   "language": "python",
   "name": "python3"
  },
  "language_info": {
   "codemirror_mode": {
    "name": "ipython",
    "version": 3
   },
   "file_extension": ".py",
   "mimetype": "text/x-python",
   "name": "python",
   "nbconvert_exporter": "python",
   "pygments_lexer": "ipython3",
   "version": "3.10.11"
  },
  "orig_nbformat": 4
 },
 "nbformat": 4,
 "nbformat_minor": 2
}
