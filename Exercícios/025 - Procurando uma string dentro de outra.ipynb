{
 "cells": [
  {
   "cell_type": "markdown",
   "metadata": {},
   "source": [
    "### Exercício Python 025 - Procurando uma string dentro de outra\n",
    "**Objetivo:** Crie um programa que leia o nome de uma pessoa e diga se ela tem \"Silva\" no nome."
   ]
  },
  {
   "cell_type": "code",
   "execution_count": null,
   "metadata": {},
   "outputs": [],
   "source": [
    "nomePessoa = input(\"Qual é o seu nome completo?\")\n",
    "\n",
    "# print(\"Seu nome tem Silva? {}\".format(\"silva\" in nomePessoa.lower()))\n",
    "\n",
    "if \"silva\" in nomePessoa.lower():\n",
    "  print(\"O seu nome possui o nome Silva\")\n",
    "else:\n",
    "  print(\"O seu nome não possui o nome Silva\")"
   ]
  }
 ],
 "metadata": {
  "kernelspec": {
   "display_name": "Python 3",
   "language": "python",
   "name": "python3"
  },
  "language_info": {
   "codemirror_mode": {
    "name": "ipython",
    "version": 3
   },
   "file_extension": ".py",
   "mimetype": "text/x-python",
   "name": "python",
   "nbconvert_exporter": "python",
   "pygments_lexer": "ipython3",
   "version": "3.10.11"
  },
  "orig_nbformat": 4
 },
 "nbformat": 4,
 "nbformat_minor": 2
}
