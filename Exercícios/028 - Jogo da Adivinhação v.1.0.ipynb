{
 "cells": [
  {
   "cell_type": "code",
   "execution_count": 4,
   "metadata": {},
   "outputs": [
    {
     "name": "stdout",
     "output_type": "stream",
     "text": [
      "Eu pensei no número 4.\n",
      "Parabéns! Você acertou!\n"
     ]
    }
   ],
   "source": [
    "import random\n",
    "\n",
    "numeroSorteado = random.randint(0, 5) # Sorteia um número entre 0 e 5\n",
    "\n",
    "print(\"Eu pensei no número {}.\".format(numeroSorteado)\n",
    "\n",
    "numeroDigitado = int(input(\"Digite um número entre 0 e 5 para tentar descobrir qual foi o número que eu pensei: \"))\n",
    "\n",
    "if numeroDigitado == numeroSorteado:\n",
    "  print(\"Parabéns! Você acertou!\")\n",
    "else:\n",
    "  print(\"Que pena! Você errou! O número que eu pensei foi o {}.\".format(numeroSorteado))"
   ]
  }
 ],
 "metadata": {
  "kernelspec": {
   "display_name": "Python 3",
   "language": "python",
   "name": "python3"
  },
  "language_info": {
   "name": "python",
   "version": "3.11.5"
  },
  "orig_nbformat": 4
 },
 "nbformat": 4,
 "nbformat_minor": 2
}
