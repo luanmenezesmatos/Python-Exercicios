{
 "cells": [
  {
   "cell_type": "markdown",
   "metadata": {},
   "source": [
    "### Exercício Python 036 - Aprovando Empréstimo\n",
    "**Objetivo:** Escreva um programa para aprovar o empréstimo bancário para a compra de uma casa. Pergunte o valor da casa, o salário do comprador e em quantos anos ele vai pagar. A prestação mensal não pode exceder 30% do salário ou então o empréstimo será negado."
   ]
  },
  {
   "cell_type": "code",
   "execution_count": 2,
   "metadata": {},
   "outputs": [
    {
     "name": "stdout",
     "output_type": "stream",
     "text": [
      "Para pagar uma casa de R$200000.00 em 12 anos. A prestação será de R$1388.89\n"
     ]
    }
   ],
   "source": [
    "valorCasa = float(input(\"Qual é o valor da casa? R$\"))\n",
    "salarioComprador = float(input(\"Qual é o salário do comprador? R$\"))\n",
    "anosPagamento = int(input(\"Quantos anos de financiamento?\"))\n",
    "prestacaoMensal = valorCasa / (anosPagamento * 12)\n",
    "\n",
    "print(\"Para pagar uma casa de R${:.2f} em {} anos. A prestação será de R${:.2f}\".format(valorCasa, anosPagamento, prestacaoMensal))"
   ]
  }
 ],
 "metadata": {
  "kernelspec": {
   "display_name": "Python 3",
   "language": "python",
   "name": "python3"
  },
  "language_info": {
   "codemirror_mode": {
    "name": "ipython",
    "version": 3
   },
   "file_extension": ".py",
   "mimetype": "text/x-python",
   "name": "python",
   "nbconvert_exporter": "python",
   "pygments_lexer": "ipython3",
   "version": "3.11.5"
  },
  "orig_nbformat": 4
 },
 "nbformat": 4,
 "nbformat_minor": 2
}
