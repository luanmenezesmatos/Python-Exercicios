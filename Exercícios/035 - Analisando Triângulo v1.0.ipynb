{
 "cells": [
  {
   "cell_type": "markdown",
   "metadata": {},
   "source": [
    "### Exercício Python 035 - Analisando Triângulo v1.0\n",
    "**Objetivo:** Desenvolva um programa que leia o comprimento de três retas e diga ao usuário se elas podem ou não formar um triângulo."
   ]
  },
  {
   "cell_type": "code",
   "execution_count": 4,
   "metadata": {},
   "outputs": [
    {
     "name": "stdout",
     "output_type": "stream",
     "text": [
      "Os segmentos acima não podem formar um triângulo!\n"
     ]
    }
   ],
   "source": [
    "primeiroSegmento = float(input(\"Digite o primeiro segmento:\"))\n",
    "segundoSegmento = float(input(\"Digite o segundo segmento:\"))\n",
    "terceiroSegmento = float(input(\"Digite o terceiro segmento:\"))\n",
    "\n",
    "if primeiroSegmento < segundoSegmento + terceiroSegmento and segundoSegmento < primeiroSegmento + terceiroSegmento and terceiroSegmento < primeiroSegmento + segundoSegmento:\n",
    "  print(\"Os segmentos acima podem formar um triângulo!\")\n",
    "else:\n",
    "  print(\"Os segmentos acima não podem formar um triângulo!\")"
   ]
  }
 ],
 "metadata": {
  "kernelspec": {
   "display_name": "Python 3",
   "language": "python",
   "name": "python3"
  },
  "language_info": {
   "codemirror_mode": {
    "name": "ipython",
    "version": 3
   },
   "file_extension": ".py",
   "mimetype": "text/x-python",
   "name": "python",
   "nbconvert_exporter": "python",
   "pygments_lexer": "ipython3",
   "version": "3.11.5"
  },
  "orig_nbformat": 4
 },
 "nbformat": 4,
 "nbformat_minor": 2
}
