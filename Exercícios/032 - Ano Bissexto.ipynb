{
 "cells": [
  {
   "cell_type": "markdown",
   "metadata": {},
   "source": [
    "### Exercício Python 032 - Ano Bissexto\n",
    "**Objetivo:** Faça um programa que leia um ano qualquer e mostre se ele é bissexto."
   ]
  },
  {
   "cell_type": "code",
   "execution_count": 22,
   "metadata": {},
   "outputs": [
    {
     "name": "stdout",
     "output_type": "stream",
     "text": [
      "O ano 2020 é bissexto\n"
     ]
    }
   ],
   "source": [
    "from calendar import isleap\n",
    "from datetime import date\n",
    "\n",
    "perguntaAno = int(input(\"Que ano quer analisar? Digite '0' para pegar o ano atual:\"))\n",
    "\n",
    "anoAtual = date.today().year\n",
    "\n",
    "if perguntaAno > anoAtual:\n",
    "  print(\"O ano {} ainda não aconteceu\".format(perguntaAno))\n",
    "elif perguntaAno == 0:\n",
    "  anoBissexto = isleap(anoAtual)\n",
    "\n",
    "  if anoBissexto == True:\n",
    "    print(\"O ano {} é bissexto\".format(anoAtual))\n",
    "  else:\n",
    "    print(\"O ano {} não é bissexto\".format(anoAtual))\n",
    "else:\n",
    "  anoBissexto = isleap(perguntaAno)\n",
    "\n",
    "  if anoBissexto == True:\n",
    "    print(\"O ano {} é bissexto\".format(perguntaAno))\n",
    "  else:\n",
    "    print(\"O ano {} não é bissexto\".format(perguntaAno))"
   ]
  }
 ],
 "metadata": {
  "kernelspec": {
   "display_name": "Python 3",
   "language": "python",
   "name": "python3"
  },
  "language_info": {
   "codemirror_mode": {
    "name": "ipython",
    "version": 3
   },
   "file_extension": ".py",
   "mimetype": "text/x-python",
   "name": "python",
   "nbconvert_exporter": "python",
   "pygments_lexer": "ipython3",
   "version": "3.11.5"
  },
  "orig_nbformat": 4
 },
 "nbformat": 4,
 "nbformat_minor": 2
}
