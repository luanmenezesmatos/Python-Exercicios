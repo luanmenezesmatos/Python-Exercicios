{
 "cells": [
  {
   "cell_type": "markdown",
   "metadata": {},
   "source": [
    "### Exercício Python 013 - Reajuste Salarial\n",
    "**Objetivo:** Faça um algoritmo que leia o salário de um funcionário e mostre seu novo salário, com 15% de aumento."
   ]
  },
  {
   "cell_type": "code",
   "execution_count": 1,
   "metadata": {},
   "outputs": [
    {
     "name": "stdout",
     "output_type": "stream",
     "text": [
      "Um funcionário que ganhava R$4319.43, com 15% de aumento, passa a receber R$4967.34\n"
     ]
    }
   ],
   "source": [
    "salarioFuncionario = float(input(\"Qual é o salário do funcionário? R$\"))\n",
    "\n",
    "salarioAumento = salarioFuncionario + (salarioFuncionario * 15 / 100)\n",
    "\n",
    "print(\"Um funcionário que ganhava R${:.2f}, com 15% de aumento, passa a receber R${:.2f}\".format(salarioFuncionario, salarioAumento)) # {:.2f} para formatar para duas casas decimais"
   ]
  }
 ],
 "metadata": {
  "kernelspec": {
   "display_name": "Python 3",
   "language": "python",
   "name": "python3"
  },
  "language_info": {
   "codemirror_mode": {
    "name": "ipython",
    "version": 3
   },
   "file_extension": ".py",
   "mimetype": "text/x-python",
   "name": "python",
   "nbconvert_exporter": "python",
   "pygments_lexer": "ipython3",
   "version": "3.10.11"
  },
  "orig_nbformat": 4
 },
 "nbformat": 4,
 "nbformat_minor": 2
}
