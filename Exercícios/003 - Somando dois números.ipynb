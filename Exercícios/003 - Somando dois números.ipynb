{
 "cells": [
  {
   "cell_type": "markdown",
   "metadata": {},
   "source": [
    "### Exercício Python 003 - Somando dois números\n",
    "**Objetivo:** Crie um programa que leia dois números e mostre a soma entre eles."
   ]
  },
  {
   "cell_type": "code",
   "execution_count": 14,
   "metadata": {},
   "outputs": [
    {
     "name": "stdout",
     "output_type": "stream",
     "text": [
      "A soma entre 10 e 5 é igual a 15!\n"
     ]
    }
   ],
   "source": [
    "primeiroValor = input(\"Digite o primeiro valor: \")\n",
    "segundoValor = input(\"Digite o segundo valor: \")\n",
    "\n",
    "if (primeiroValor.isnumeric() == False or segundoValor.isnumeric() == False):\n",
    "    print(\"Digite apenas números!\")\n",
    "else:\n",
    "    soma = int(primeiroValor) + int(segundoValor)\n",
    "    print(\"A soma dos valores é:\", soma)\n",
    "\n",
    "# ou\n",
    "\n",
    "n1 = int(input(\"Informe o primeiro número: \"))\n",
    "n2 = int(input(\"Informe o segundo número: \"))\n",
    "\n",
    "print(\"A soma entre {} e {} é igual a {}.\".format(n1, n2, n1+n2))"
   ]
  }
 ],
 "metadata": {
  "kernelspec": {
   "display_name": "Python 3",
   "language": "python",
   "name": "python3"
  },
  "language_info": {
   "codemirror_mode": {
    "name": "ipython",
    "version": 3
   },
   "file_extension": ".py",
   "mimetype": "text/x-python",
   "name": "python",
   "nbconvert_exporter": "python",
   "pygments_lexer": "ipython3",
   "version": "3.10.11"
  },
  "orig_nbformat": 4
 },
 "nbformat": 4,
 "nbformat_minor": 2
}
