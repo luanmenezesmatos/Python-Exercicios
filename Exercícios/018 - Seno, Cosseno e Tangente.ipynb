{
 "cells": [
  {
   "cell_type": "markdown",
   "metadata": {},
   "source": [
    "### Exercício Python 018 - Seno, Cosseno e Tangente\n",
    "**Objetivo:** Faça um programa que leia um ângulo qualquer e mostre na tela o valor do seno, cosseno e tangente desse ângulo."
   ]
  },
  {
   "cell_type": "code",
   "execution_count": 2,
   "metadata": {},
   "outputs": [
    {
     "name": "stdout",
     "output_type": "stream",
     "text": [
      "O ângulo de 5.0 tem o SENO de 0.09\n",
      "O ângulo de 5.0 tem o COSSENO de 1.00\n",
      "O ângulo de 5.0 tem a TANGENTE de 0.09\n"
     ]
    }
   ],
   "source": [
    "import math\n",
    "\n",
    "anguloInput = float(input(\"Digite o ângulo que você deseja:\"))\n",
    "\n",
    "calculaSeno = math.sin(math.radians(anguloInput)) # math.radians converte o ângulo para radianos - math.sin calcula o seno\n",
    "calculaCosseno = math.cos(math.radians(anguloInput)) # math.radians converte o ângulo para radianos - math.cos calcula o cosseno\n",
    "calculaTangente = math.tan(math.radians(anguloInput)) # math.radians converte o ângulo para radianos - math.tan calcula o tangente\n",
    "\n",
    "print(\"O ângulo de {} tem o SENO de {:.2f}\".format(anguloInput, calculaSeno))\n",
    "print(\"O ângulo de {} tem o COSSENO de {:.2f}\".format(anguloInput, calculaCosseno))\n",
    "print(\"O ângulo de {} tem a TANGENTE de {:.2f}\".format(anguloInput, calculaTangente))"
   ]
  }
 ],
 "metadata": {
  "kernelspec": {
   "display_name": "Python 3",
   "language": "python",
   "name": "python3"
  },
  "language_info": {
   "codemirror_mode": {
    "name": "ipython",
    "version": 3
   },
   "file_extension": ".py",
   "mimetype": "text/x-python",
   "name": "python",
   "nbconvert_exporter": "python",
   "pygments_lexer": "ipython3",
   "version": "3.10.11"
  },
  "orig_nbformat": 4
 },
 "nbformat": 4,
 "nbformat_minor": 2
}
