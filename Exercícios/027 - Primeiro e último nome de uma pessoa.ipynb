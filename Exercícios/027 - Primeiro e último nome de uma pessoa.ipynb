{
 "cells": [
  {
   "cell_type": "markdown",
   "metadata": {},
   "source": [
    "### Exercício Python 027 - Primeiro e último nome de uma pessoa\n",
    "**Objetivo:** Faça um programa que leia o nome completo de uma pessoa, mostrando em seguida o primeiro e o último nome separadamente.\n",
    "\n",
    "Ex: Ana Maria de Souza (primeiro = Ana; último = Souza."
   ]
  },
  {
   "cell_type": "code",
   "execution_count": 2,
   "metadata": {},
   "outputs": [
    {
     "name": "stdout",
     "output_type": "stream",
     "text": [
      "O seu primeiro nome é Luan e o seu último nome é Matos\n"
     ]
    }
   ],
   "source": [
    "nomeCompleto = str(input(\"Digite o seu nome completo:\")).strip() # strip() remove os espaços antes e depois da string\n",
    "\n",
    "primeiroNome = nomeCompleto.split()[0]\n",
    "ultimoNome = nomeCompleto.split()[-1]\n",
    "\n",
    "print(\"O seu primeiro nome é '{}' e o seu último nome é '{}'\".format(primeiroNome, ultimoNome))"
   ]
  }
 ],
 "metadata": {
  "kernelspec": {
   "display_name": "Python 3",
   "language": "python",
   "name": "python3"
  },
  "language_info": {
   "codemirror_mode": {
    "name": "ipython",
    "version": 3
   },
   "file_extension": ".py",
   "mimetype": "text/x-python",
   "name": "python",
   "nbconvert_exporter": "python",
   "pygments_lexer": "ipython3",
   "version": "3.11.5"
  },
  "orig_nbformat": 4
 },
 "nbformat": 4,
 "nbformat_minor": 2
}
