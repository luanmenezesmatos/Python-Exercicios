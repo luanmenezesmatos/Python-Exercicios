{
 "cells": [
  {
   "cell_type": "markdown",
   "metadata": {},
   "source": [
    "### Exercício Python 008 - Conversor de Medidas\n",
    "**Objetivo:** Escreva um programa que leia um valor em metros e o exiba convertido em centímetros e milímetros."
   ]
  },
  {
   "cell_type": "code",
   "execution_count": 2,
   "metadata": {},
   "outputs": [
    {
     "name": "stdout",
     "output_type": "stream",
     "text": [
      "O valor em centímetros é: 1000.0cm\n",
      "O valor em milímetros é: 10000.0mm\n"
     ]
    }
   ],
   "source": [
    "valorEmMetros = float(input(\"Digite um valor em metros:\"))\n",
    "\n",
    "valorEmCentimetros = valorEmMetros * 100\n",
    "valorEmMilimetros = valorEmMetros * 1000\n",
    "\n",
    "print(\"O valor em centímetros é: {}cm\".format(valorEmCentimetros))\n",
    "print(\"O valor em milímetros é: {}mm\".format(valorEmMilimetros))"
   ]
  }
 ],
 "metadata": {
  "kernelspec": {
   "display_name": "Python 3",
   "language": "python",
   "name": "python3"
  },
  "language_info": {
   "codemirror_mode": {
    "name": "ipython",
    "version": 3
   },
   "file_extension": ".py",
   "mimetype": "text/x-python",
   "name": "python",
   "nbconvert_exporter": "python",
   "pygments_lexer": "ipython3",
   "version": "3.10.11"
  },
  "orig_nbformat": 4
 },
 "nbformat": 4,
 "nbformat_minor": 2
}
