{
 "cells": [
  {
   "cell_type": "markdown",
   "metadata": {},
   "source": [
    "### Exercício Python 008 - Conversor de Medidas\n",
    "**Objetivo:** Escreva um programa que leia um valor em metros e o exiba convertido em centímetros e milímetros."
   ]
  },
  {
   "cell_type": "code",
   "execution_count": null,
   "metadata": {},
   "outputs": [],
   "source": [
    "valorEmMetros = float(input(\"Digite um valor em metros:\"))\n",
    "\n",
    "valorEmCentimetros = valorEmMetros * 100\n",
    "valorEmMilimetros = valorEmMetros * 1000\n",
    "\n",
    "print(\"O valor em centímetros é:\", valorEmCentimetros)\n",
    "print(\"O valor em milímetros é:\", valorEmMilimetros)"
   ]
  }
 ],
 "metadata": {
  "kernelspec": {
   "display_name": "Python 3",
   "language": "python",
   "name": "python3"
  },
  "language_info": {
   "name": "python",
   "version": "3.10.11"
  },
  "orig_nbformat": 4
 },
 "nbformat": 4,
 "nbformat_minor": 2
}
