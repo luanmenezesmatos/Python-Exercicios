{
 "cells": [
  {
   "cell_type": "markdown",
   "metadata": {},
   "source": [
    "### Exercício Python 029 - Radar eletrônico\n",
    "**Objetivo:** Escreva um programa que leia a velocidade de um carro. Se ele ultrapassar 80Km/h, mostre uma mensagem dizendo que ele foi multado. A multa vai custar R$7,00 por cada Km acima do limite."
   ]
  },
  {
   "cell_type": "code",
   "execution_count": 2,
   "metadata": {},
   "outputs": [
    {
     "name": "stdout",
     "output_type": "stream",
     "text": [
      "Você foi multado! O valor da multa é de R$112.00\n"
     ]
    }
   ],
   "source": [
    "velocidadeCarro = float(input(\"Qual a velocidade do carro? (Digite apenas números e se necessários pontos, não digite vírgulas e muito menos Km/h))\"))\n",
    "\n",
    "if velocidadeCarro > 80:\n",
    "  print(\"Você foi multado! O valor da multa é de R${:.2f}\".format((velocidadeCarro - 80) * 7))\n",
    "else:\n",
    "  print(\"Parabéns! Você não foi multado.\")"
   ]
  }
 ],
 "metadata": {
  "kernelspec": {
   "display_name": "Python 3",
   "language": "python",
   "name": "python3"
  },
  "language_info": {
   "codemirror_mode": {
    "name": "ipython",
    "version": 3
   },
   "file_extension": ".py",
   "mimetype": "text/x-python",
   "name": "python",
   "nbconvert_exporter": "python",
   "pygments_lexer": "ipython3",
   "version": "3.11.5"
  },
  "orig_nbformat": 4
 },
 "nbformat": 4,
 "nbformat_minor": 2
}
