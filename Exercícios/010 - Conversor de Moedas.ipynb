{
 "cells": [
  {
   "cell_type": "markdown",
   "metadata": {},
   "source": [
    "### Exercício Python 010 - Conversor de Moedas\n",
    "**Objetivo:** Crie um programa que leia quanto dinheiro uma pessoa tem na carteira e mostre quantos dólares ela pode comprar."
   ]
  },
  {
   "cell_type": "code",
   "execution_count": 2,
   "metadata": {},
   "outputs": [
    {
     "name": "stdout",
     "output_type": "stream",
     "text": [
      "Com R$1000.00 você pode comprar US$200.80\n"
     ]
    }
   ],
   "source": [
    "dinheiroAtual = float(input(\"Quanto dinheiro você tem na carteira? R$\"))\n",
    "\n",
    "dolar = dinheiroAtual / 4.98\n",
    "\n",
    "print(\"Com R${:.2f} você pode comprar US${:.2f}\".format(dinheiroAtual, dolar)) # {:.2f} para formatar para duas casas decimais"
   ]
  }
 ],
 "metadata": {
  "kernelspec": {
   "display_name": "Python 3",
   "language": "python",
   "name": "python3"
  },
  "language_info": {
   "codemirror_mode": {
    "name": "ipython",
    "version": 3
   },
   "file_extension": ".py",
   "mimetype": "text/x-python",
   "name": "python",
   "nbconvert_exporter": "python",
   "pygments_lexer": "ipython3",
   "version": "3.10.11"
  },
  "orig_nbformat": 4
 },
 "nbformat": 4,
 "nbformat_minor": 2
}
